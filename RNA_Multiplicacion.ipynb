{
  "nbformat": 4,
  "nbformat_minor": 0,
  "metadata": {
    "colab": {
      "name": "RNA_Multiplicacion.ipynb",
      "provenance": [],
      "collapsed_sections": [],
      "include_colab_link": true
    },
    "kernelspec": {
      "name": "python3",
      "display_name": "Python 3"
    },
    "language_info": {
      "name": "python"
    }
  },
  "cells": [
    {
      "cell_type": "markdown",
      "metadata": {
        "id": "view-in-github",
        "colab_type": "text"
      },
      "source": [
        "<a href=\"https://colab.research.google.com/github/AliroAngulo/IA/blob/main/RNA_Multiplicacion.ipynb\" target=\"_parent\"><img src=\"https://colab.research.google.com/assets/colab-badge.svg\" alt=\"Open In Colab\"/></a>"
      ]
    },
    {
      "cell_type": "markdown",
      "metadata": {
        "id": "hObE3lxYFtoX"
      },
      "source": [
        "# **Problema 2**\n",
        "\n",
        "Aliro Angulo Fernández\n",
        "\n",
        "Inteligencia Artificial Aplicada a los Negocios\n",
        "\n",
        "Ingeiería Civil Industrial\n",
        "\n",
        "Universidad Aunstral de Chile\n",
        "\n",
        "M.B.A. Ing. Dipl.  Luis Vidal V. (lvidal@uach.cl)\n",
        "\n",
        "Fecha: 4 de noviembre de 2021\n",
        "\n"
      ]
    },
    {
      "cell_type": "markdown",
      "metadata": {
        "id": "sJlrEPpMGSRB"
      },
      "source": [
        "# Importar librerias"
      ]
    },
    {
      "cell_type": "code",
      "metadata": {
        "id": "jJ2glfnXD3bX"
      },
      "source": [
        "import pandas as pd\n",
        "import numpy as np"
      ],
      "execution_count": 1,
      "outputs": []
    },
    {
      "cell_type": "markdown",
      "metadata": {
        "id": "A2yqBbzsGY3e"
      },
      "source": [
        "# Carga de datos"
      ]
    },
    {
      "cell_type": "code",
      "metadata": {
        "colab": {
          "base_uri": "https://localhost:8080/",
          "height": 546
        },
        "id": "vt2rE-MLGcrs",
        "outputId": "22da4f5b-53d0-464c-f2cd-770f3c8c2cf3"
      },
      "source": [
        "# Se emple la función wget que permita bajar al espacio de trabajo los datos para análisis\n",
        "!wget --no-check-certificate --content-disposition https://raw.githubusercontent.com/AliroAngulo/aliroIA/main/multiplicacionIA.csv\n",
        "\n",
        "# Ustilizando pandas, se carga archivo en memoria como dataframe\n",
        "df = pd.read_csv(\"multiplicacionIA.csv\")\n",
        "df.head(10)"
      ],
      "execution_count": 17,
      "outputs": [
        {
          "output_type": "stream",
          "name": "stdout",
          "text": [
            "--2021-11-03 22:25:25--  https://raw.githubusercontent.com/AliroAngulo/aliroIA/main/multiplicacionIA.csv\n",
            "Resolving raw.githubusercontent.com (raw.githubusercontent.com)... 185.199.109.133, 185.199.108.133, 185.199.110.133, ...\n",
            "Connecting to raw.githubusercontent.com (raw.githubusercontent.com)|185.199.109.133|:443... connected.\n",
            "HTTP request sent, awaiting response... 200 OK\n",
            "Length: 24647 (24K) [text/plain]\n",
            "Saving to: ‘multiplicacionIA.csv’\n",
            "\n",
            "\rmultiplicacionIA.cs   0%[                    ]       0  --.-KB/s               \rmultiplicacionIA.cs 100%[===================>]  24.07K  --.-KB/s    in 0.001s  \n",
            "\n",
            "2021-11-03 22:25:25 (39.1 MB/s) - ‘multiplicacionIA.csv’ saved [24647/24647]\n",
            "\n"
          ]
        },
        {
          "output_type": "execute_result",
          "data": {
            "text/html": [
              "<div>\n",
              "<style scoped>\n",
              "    .dataframe tbody tr th:only-of-type {\n",
              "        vertical-align: middle;\n",
              "    }\n",
              "\n",
              "    .dataframe tbody tr th {\n",
              "        vertical-align: top;\n",
              "    }\n",
              "\n",
              "    .dataframe thead th {\n",
              "        text-align: right;\n",
              "    }\n",
              "</style>\n",
              "<table border=\"1\" class=\"dataframe\">\n",
              "  <thead>\n",
              "    <tr style=\"text-align: right;\">\n",
              "      <th></th>\n",
              "      <th>Y</th>\n",
              "      <th>X1</th>\n",
              "      <th>X2</th>\n",
              "      <th>X3</th>\n",
              "    </tr>\n",
              "  </thead>\n",
              "  <tbody>\n",
              "    <tr>\n",
              "      <th>0</th>\n",
              "      <td>112660514</td>\n",
              "      <td>214</td>\n",
              "      <td>751</td>\n",
              "      <td>701</td>\n",
              "    </tr>\n",
              "    <tr>\n",
              "      <th>1</th>\n",
              "      <td>55059060</td>\n",
              "      <td>389</td>\n",
              "      <td>674</td>\n",
              "      <td>210</td>\n",
              "    </tr>\n",
              "    <tr>\n",
              "      <th>2</th>\n",
              "      <td>7199830</td>\n",
              "      <td>145</td>\n",
              "      <td>671</td>\n",
              "      <td>74</td>\n",
              "    </tr>\n",
              "    <tr>\n",
              "      <th>3</th>\n",
              "      <td>382992228</td>\n",
              "      <td>694</td>\n",
              "      <td>713</td>\n",
              "      <td>774</td>\n",
              "    </tr>\n",
              "    <tr>\n",
              "      <th>4</th>\n",
              "      <td>15689100</td>\n",
              "      <td>241</td>\n",
              "      <td>75</td>\n",
              "      <td>868</td>\n",
              "    </tr>\n",
              "    <tr>\n",
              "      <th>5</th>\n",
              "      <td>37415760</td>\n",
              "      <td>752</td>\n",
              "      <td>465</td>\n",
              "      <td>107</td>\n",
              "    </tr>\n",
              "    <tr>\n",
              "      <th>6</th>\n",
              "      <td>194011888</td>\n",
              "      <td>952</td>\n",
              "      <td>589</td>\n",
              "      <td>346</td>\n",
              "    </tr>\n",
              "    <tr>\n",
              "      <th>7</th>\n",
              "      <td>1623636</td>\n",
              "      <td>357</td>\n",
              "      <td>12</td>\n",
              "      <td>379</td>\n",
              "    </tr>\n",
              "    <tr>\n",
              "      <th>8</th>\n",
              "      <td>114090450</td>\n",
              "      <td>530</td>\n",
              "      <td>565</td>\n",
              "      <td>381</td>\n",
              "    </tr>\n",
              "    <tr>\n",
              "      <th>9</th>\n",
              "      <td>24409840</td>\n",
              "      <td>364</td>\n",
              "      <td>958</td>\n",
              "      <td>70</td>\n",
              "    </tr>\n",
              "  </tbody>\n",
              "</table>\n",
              "</div>"
            ],
            "text/plain": [
              "           Y   X1   X2   X3\n",
              "0  112660514  214  751  701\n",
              "1   55059060  389  674  210\n",
              "2    7199830  145  671   74\n",
              "3  382992228  694  713  774\n",
              "4   15689100  241   75  868\n",
              "5   37415760  752  465  107\n",
              "6  194011888  952  589  346\n",
              "7    1623636  357   12  379\n",
              "8  114090450  530  565  381\n",
              "9   24409840  364  958   70"
            ]
          },
          "metadata": {},
          "execution_count": 17
        }
      ]
    },
    {
      "cell_type": "code",
      "metadata": {
        "id": "U7AFgUJXERAe"
      },
      "source": [
        "df = pd.read_csv('multiplicacionIA.csv')"
      ],
      "execution_count": 19,
      "outputs": []
    },
    {
      "cell_type": "code",
      "metadata": {
        "id": "gS1uZmVYEdxy",
        "colab": {
          "base_uri": "https://localhost:8080/"
        },
        "outputId": "30ddc1fd-51d3-4ff9-a235-543f5dc38902"
      },
      "source": [
        "#Muestra columnas\n",
        "print(df.columns)"
      ],
      "execution_count": 20,
      "outputs": [
        {
          "output_type": "stream",
          "name": "stdout",
          "text": [
            "Index(['Y', 'X1', 'X2', 'X3'], dtype='object')\n"
          ]
        }
      ]
    },
    {
      "cell_type": "code",
      "metadata": {
        "id": "IM5enp02Ep5J"
      },
      "source": [
        "#Creamos un dataset desde el archivo que se descargo.\n",
        "dataset = df.values"
      ],
      "execution_count": 21,
      "outputs": []
    },
    {
      "cell_type": "code",
      "metadata": {
        "id": "uLw-2HbXEtjg",
        "colab": {
          "base_uri": "https://localhost:8080/"
        },
        "outputId": "81bfa5ec-9d2d-4e73-bc38-6a9952d6fe9d"
      },
      "source": [
        "print(dataset)"
      ],
      "execution_count": 22,
      "outputs": [
        {
          "output_type": "stream",
          "name": "stdout",
          "text": [
            "[[112660514       214       751       701]\n",
            " [ 55059060       389       674       210]\n",
            " [  7199830       145       671        74]\n",
            " ...\n",
            " [ 25043130       105       939       254]\n",
            " [395153640       798       786       630]\n",
            " [109346952       844       286       453]]\n"
          ]
        }
      ]
    },
    {
      "cell_type": "code",
      "metadata": {
        "id": "yd8Mss6YEyC2"
      },
      "source": [
        "#Separamos los datos Y variable objetivo, X variables x1 y x2\n",
        "Y=dataset[:,0]\n",
        "X=dataset[:,1:4]"
      ],
      "execution_count": 43,
      "outputs": []
    },
    {
      "cell_type": "code",
      "metadata": {
        "id": "03DNF0-8E7eg"
      },
      "source": [
        "#Usar este código para dejar los tipos de datos como float, sugerido.\n",
        "X=np.asarray(X).astype(np.float32)\n",
        "Y=np.asarray(Y).astype(np.float32)"
      ],
      "execution_count": 44,
      "outputs": []
    },
    {
      "cell_type": "code",
      "metadata": {
        "id": "QGVMn8NkFJPs",
        "colab": {
          "base_uri": "https://localhost:8080/"
        },
        "outputId": "6ddbd2cf-a221-4b64-806f-f95817eb58b1"
      },
      "source": [
        "print(X)\n",
        "print(Y)"
      ],
      "execution_count": 45,
      "outputs": [
        {
          "output_type": "stream",
          "name": "stdout",
          "text": [
            "[[214. 751. 701.]\n",
            " [389. 674. 210.]\n",
            " [145. 671.  74.]\n",
            " ...\n",
            " [105. 939. 254.]\n",
            " [798. 786. 630.]\n",
            " [844. 286. 453.]]\n",
            "[1.1266051e+08 5.5059060e+07 7.1998300e+06 ... 2.5043130e+07 3.9515363e+08\n",
            " 1.0934695e+08]\n"
          ]
        }
      ]
    },
    {
      "cell_type": "markdown",
      "metadata": {
        "id": "ssLrsKk3OgDD"
      },
      "source": [
        "# Creación del Cerebro de nuestra la I.A."
      ]
    },
    {
      "cell_type": "code",
      "metadata": {
        "id": "qvuszICbFKzW"
      },
      "source": [
        "import tensorflow as tf\n",
        "from tensorflow import keras\n",
        "from tensorflow.keras import layers"
      ],
      "execution_count": 46,
      "outputs": []
    },
    {
      "cell_type": "code",
      "metadata": {
        "id": "dlnMkVyyFOan"
      },
      "source": [
        "#Cerebro\n",
        "def build_model():\n",
        "  model = keras.Sequential([\n",
        "    layers.Dense(16, activation='relu', input_shape=[3]),   #input_shape  se ingresa cantida de Xi, en este caso son 3 variables.\n",
        "    layers.Dense(32, activation='relu'), #Dejé los mismos valores hechos en clases\n",
        "    layers.Dense(18, activation='relu'),\n",
        "    layers.Dense(1)\n",
        "  ])\n",
        "  optimizer = tf.keras.optimizers.RMSprop(learning_rate=0.0001)\n",
        "  model.compile(loss='mse',\n",
        "                optimizer=optimizer,\n",
        "                metrics=['mae', 'mse'])\n",
        "  return model"
      ],
      "execution_count": 47,
      "outputs": []
    },
    {
      "cell_type": "code",
      "metadata": {
        "id": "0Cg-wD-qFZTf"
      },
      "source": [
        "#Se crea el modelo Cerebro (modelo de redes neuronales)\n",
        "model = build_model()"
      ],
      "execution_count": 48,
      "outputs": []
    },
    {
      "cell_type": "markdown",
      "metadata": {
        "id": "BsNcp4enPM-z"
      },
      "source": [
        "# Entrenamiento de la Red Neuronal"
      ]
    },
    {
      "cell_type": "code",
      "metadata": {
        "id": "XpD6SrVkFak6",
        "colab": {
          "base_uri": "https://localhost:8080/"
        },
        "outputId": "96776345-e480-4ee2-ca76-247a241498ff"
      },
      "source": [
        "!pip install git+https://github.com/tensorflow/docs"
      ],
      "execution_count": 49,
      "outputs": [
        {
          "output_type": "stream",
          "name": "stdout",
          "text": [
            "Collecting git+https://github.com/tensorflow/docs\n",
            "  Cloning https://github.com/tensorflow/docs to /tmp/pip-req-build-q8wvq5j0\n",
            "  Running command git clone -q https://github.com/tensorflow/docs /tmp/pip-req-build-q8wvq5j0\n",
            "Requirement already satisfied: astor in /usr/local/lib/python3.7/dist-packages (from tensorflow-docs==0.0.0.dev0) (0.8.1)\n",
            "Requirement already satisfied: absl-py in /usr/local/lib/python3.7/dist-packages (from tensorflow-docs==0.0.0.dev0) (0.12.0)\n",
            "Requirement already satisfied: protobuf>=3.14 in /usr/local/lib/python3.7/dist-packages (from tensorflow-docs==0.0.0.dev0) (3.17.3)\n",
            "Requirement already satisfied: pyyaml in /usr/local/lib/python3.7/dist-packages (from tensorflow-docs==0.0.0.dev0) (3.13)\n",
            "Requirement already satisfied: six>=1.9 in /usr/local/lib/python3.7/dist-packages (from protobuf>=3.14->tensorflow-docs==0.0.0.dev0) (1.15.0)\n"
          ]
        }
      ]
    },
    {
      "cell_type": "code",
      "metadata": {
        "id": "k5myYGPFFlSQ"
      },
      "source": [
        "import tensorflow_docs as tfdocs\n",
        "import tensorflow_docs.modeling"
      ],
      "execution_count": 50,
      "outputs": []
    },
    {
      "cell_type": "code",
      "metadata": {
        "id": "lhrF8Mb6Fn5O"
      },
      "source": [
        "EPOCHS = 1000"
      ],
      "execution_count": 51,
      "outputs": []
    },
    {
      "cell_type": "code",
      "metadata": {
        "id": "CeWhINlCFo5q",
        "colab": {
          "base_uri": "https://localhost:8080/"
        },
        "outputId": "3fc59183-589d-43fa-a687-8d3040f61650"
      },
      "source": [
        "history = model.fit(\n",
        "    X,Y,\n",
        "    epochs=EPOCHS, verbose=0,\n",
        "    callbacks=[tfdocs.modeling.EpochDots()])"
      ],
      "execution_count": 52,
      "outputs": [
        {
          "output_type": "stream",
          "name": "stdout",
          "text": [
            "\n",
            "Epoch: 0, loss:41452249792118784.0000,  mae:132556480.0000,  mse:41452249792118784.0000,  \n",
            "....................................................................................................\n",
            "Epoch: 100, loss:41420398314651648.0000,  mae:132466752.0000,  mse:41420398314651648.0000,  \n",
            "....................................................................................................\n",
            "Epoch: 200, loss:41089900581224448.0000,  mae:131542096.0000,  mse:41089900581224448.0000,  \n",
            "....................................................................................................\n",
            "Epoch: 300, loss:39834421511061504.0000,  mae:128090392.0000,  mse:39834421511061504.0000,  \n",
            "....................................................................................................\n",
            "Epoch: 400, loss:36755389521330176.0000,  mae:120010752.0000,  mse:36755389521330176.0000,  \n",
            "....................................................................................................\n",
            "Epoch: 500, loss:31063086827831296.0000,  mae:106386176.0000,  mse:31063086827831296.0000,  \n",
            "....................................................................................................\n",
            "Epoch: 600, loss:23022491437891584.0000,  mae:91058536.0000,  mse:23022491437891584.0000,  \n",
            "....................................................................................................\n",
            "Epoch: 700, loss:15403531913658368.0000,  mae:83822048.0000,  mse:15403531913658368.0000,  \n",
            "....................................................................................................\n",
            "Epoch: 800, loss:13196950589407232.0000,  mae:90112160.0000,  mse:13196950589407232.0000,  \n",
            "....................................................................................................\n",
            "Epoch: 900, loss:13160893265215488.0000,  mae:91431504.0000,  mse:13160893265215488.0000,  \n",
            "...................................................................................................."
          ]
        }
      ]
    },
    {
      "cell_type": "markdown",
      "metadata": {
        "id": "_Wn4SNscPVzt"
      },
      "source": [
        "# Prueba de la I.A. creada, que tenía como objeto enseñar a multiplicar a nuestra I.A."
      ]
    },
    {
      "cell_type": "code",
      "metadata": {
        "id": "BVChxynFFyLu",
        "colab": {
          "base_uri": "https://localhost:8080/"
        },
        "outputId": "045aa728-d0be-49a9-a83c-576dba5c84ab"
      },
      "source": [
        "print(\"Aprendiendo a multiplicar\")\n",
        "\n",
        "a=float(input(\"Ingrese primer valor: \"))\n",
        "b=float(input(\"Ingrese segundo valor: \"))\n",
        "c=float(input(\"Ingrese el tercer valor: \"))\n",
        "\n",
        "y=model.predict(np.array([[a,b,c]]))\n",
        "\n",
        "#multiplicacion=a*b*c\n",
        "print(\" \")\n",
        "print(\"El resultado es: %s apróximadamente \" % y[0] [0])\n"
      ],
      "execution_count": 54,
      "outputs": [
        {
          "output_type": "stream",
          "name": "stdout",
          "text": [
            "Aprendiendo a multiplicar\n",
            "Ingrese primer valor: 6\n",
            "Ingrese segundo valor: 5\n",
            "Ingrese el tercer valor: 4\n",
            " \n",
            "El resultado es: 1632516.8 apróximadamente \n"
          ]
        }
      ]
    }
  ]
}