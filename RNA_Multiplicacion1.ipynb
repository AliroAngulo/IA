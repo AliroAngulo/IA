{
  "nbformat": 4,
  "nbformat_minor": 0,
  "metadata": {
    "colab": {
      "name": "RNA_Multiplicacion.ipynb",
      "provenance": [],
      "collapsed_sections": [],
      "include_colab_link": true
    },
    "kernelspec": {
      "name": "python3",
      "display_name": "Python 3"
    },
    "language_info": {
      "name": "python"
    }
  },
  "cells": [
    {
      "cell_type": "markdown",
      "metadata": {
        "id": "view-in-github",
        "colab_type": "text"
      },
      "source": [
        "<a href=\"https://colab.research.google.com/github/AliroAngulo/IA/blob/main/RNA_Multiplicacion1.ipynb\" target=\"_parent\"><img src=\"https://colab.research.google.com/assets/colab-badge.svg\" alt=\"Open In Colab\"/></a>"
      ]
    },
    {
      "cell_type": "markdown",
      "metadata": {
        "id": "hObE3lxYFtoX"
      },
      "source": [
        "# **Problema 2**\n",
        "\n",
        "Nombre: Aliro Angulo Fernández\n",
        "\n",
        "Inteligencia Artificial Aplicada a los Negocios\n",
        "\n",
        "Ingeiería Civil Industrial\n",
        "\n",
        "Universidad Aunstral de Chile\n",
        "\n",
        "Profesor: M.B.A. Ing. Dipl.  Luis Vidal V. (lvidal@uach.cl)\n",
        "\n",
        "Fecha: 4 de noviembre de 2021\n",
        "\n"
      ]
    },
    {
      "cell_type": "markdown",
      "metadata": {
        "id": "sJlrEPpMGSRB"
      },
      "source": [
        "# Importar librerias"
      ]
    },
    {
      "cell_type": "code",
      "metadata": {
        "id": "jJ2glfnXD3bX"
      },
      "source": [
        "import pandas as pd\n",
        "import numpy as np"
      ],
      "execution_count": 1,
      "outputs": []
    },
    {
      "cell_type": "markdown",
      "metadata": {
        "id": "A2yqBbzsGY3e"
      },
      "source": [
        "# Carga de datos"
      ]
    },
    {
      "cell_type": "code",
      "metadata": {
        "colab": {
          "base_uri": "https://localhost:8080/",
          "height": 546
        },
        "id": "vt2rE-MLGcrs",
        "outputId": "b97b8cd5-419c-4328-d003-cc203648f00c"
      },
      "source": [
        "# Se emple la función wget que permita bajar al espacio de trabajo los datos para análisis\n",
        "!wget --no-check-certificate --content-disposition https://raw.githubusercontent.com/AliroAngulo/aliroIA/main/multiplicacionIA.csv\n",
        "\n",
        "# Ustilizando pandas, se carga archivo en memoria como dataframe\n",
        "df = pd.read_csv(\"multiplicacionIA.csv\")\n",
        "df.head(10)"
      ],
      "execution_count": 2,
      "outputs": [
        {
          "output_type": "stream",
          "name": "stdout",
          "text": [
            "--2021-11-04 23:37:09--  https://raw.githubusercontent.com/AliroAngulo/aliroIA/main/multiplicacionIA.csv\n",
            "Resolving raw.githubusercontent.com (raw.githubusercontent.com)... 185.199.108.133, 185.199.109.133, 185.199.110.133, ...\n",
            "Connecting to raw.githubusercontent.com (raw.githubusercontent.com)|185.199.108.133|:443... connected.\n",
            "HTTP request sent, awaiting response... 200 OK\n",
            "Length: 24647 (24K) [text/plain]\n",
            "Saving to: ‘multiplicacionIA.csv’\n",
            "\n",
            "multiplicacionIA.cs 100%[===================>]  24.07K  --.-KB/s    in 0s      \n",
            "\n",
            "2021-11-04 23:37:10 (117 MB/s) - ‘multiplicacionIA.csv’ saved [24647/24647]\n",
            "\n"
          ]
        },
        {
          "output_type": "execute_result",
          "data": {
            "text/html": [
              "<div>\n",
              "<style scoped>\n",
              "    .dataframe tbody tr th:only-of-type {\n",
              "        vertical-align: middle;\n",
              "    }\n",
              "\n",
              "    .dataframe tbody tr th {\n",
              "        vertical-align: top;\n",
              "    }\n",
              "\n",
              "    .dataframe thead th {\n",
              "        text-align: right;\n",
              "    }\n",
              "</style>\n",
              "<table border=\"1\" class=\"dataframe\">\n",
              "  <thead>\n",
              "    <tr style=\"text-align: right;\">\n",
              "      <th></th>\n",
              "      <th>Y</th>\n",
              "      <th>X1</th>\n",
              "      <th>X2</th>\n",
              "      <th>X3</th>\n",
              "    </tr>\n",
              "  </thead>\n",
              "  <tbody>\n",
              "    <tr>\n",
              "      <th>0</th>\n",
              "      <td>112660514</td>\n",
              "      <td>214</td>\n",
              "      <td>751</td>\n",
              "      <td>701</td>\n",
              "    </tr>\n",
              "    <tr>\n",
              "      <th>1</th>\n",
              "      <td>55059060</td>\n",
              "      <td>389</td>\n",
              "      <td>674</td>\n",
              "      <td>210</td>\n",
              "    </tr>\n",
              "    <tr>\n",
              "      <th>2</th>\n",
              "      <td>7199830</td>\n",
              "      <td>145</td>\n",
              "      <td>671</td>\n",
              "      <td>74</td>\n",
              "    </tr>\n",
              "    <tr>\n",
              "      <th>3</th>\n",
              "      <td>382992228</td>\n",
              "      <td>694</td>\n",
              "      <td>713</td>\n",
              "      <td>774</td>\n",
              "    </tr>\n",
              "    <tr>\n",
              "      <th>4</th>\n",
              "      <td>15689100</td>\n",
              "      <td>241</td>\n",
              "      <td>75</td>\n",
              "      <td>868</td>\n",
              "    </tr>\n",
              "    <tr>\n",
              "      <th>5</th>\n",
              "      <td>37415760</td>\n",
              "      <td>752</td>\n",
              "      <td>465</td>\n",
              "      <td>107</td>\n",
              "    </tr>\n",
              "    <tr>\n",
              "      <th>6</th>\n",
              "      <td>194011888</td>\n",
              "      <td>952</td>\n",
              "      <td>589</td>\n",
              "      <td>346</td>\n",
              "    </tr>\n",
              "    <tr>\n",
              "      <th>7</th>\n",
              "      <td>1623636</td>\n",
              "      <td>357</td>\n",
              "      <td>12</td>\n",
              "      <td>379</td>\n",
              "    </tr>\n",
              "    <tr>\n",
              "      <th>8</th>\n",
              "      <td>114090450</td>\n",
              "      <td>530</td>\n",
              "      <td>565</td>\n",
              "      <td>381</td>\n",
              "    </tr>\n",
              "    <tr>\n",
              "      <th>9</th>\n",
              "      <td>24409840</td>\n",
              "      <td>364</td>\n",
              "      <td>958</td>\n",
              "      <td>70</td>\n",
              "    </tr>\n",
              "  </tbody>\n",
              "</table>\n",
              "</div>"
            ],
            "text/plain": [
              "           Y   X1   X2   X3\n",
              "0  112660514  214  751  701\n",
              "1   55059060  389  674  210\n",
              "2    7199830  145  671   74\n",
              "3  382992228  694  713  774\n",
              "4   15689100  241   75  868\n",
              "5   37415760  752  465  107\n",
              "6  194011888  952  589  346\n",
              "7    1623636  357   12  379\n",
              "8  114090450  530  565  381\n",
              "9   24409840  364  958   70"
            ]
          },
          "metadata": {},
          "execution_count": 2
        }
      ]
    },
    {
      "cell_type": "code",
      "metadata": {
        "id": "U7AFgUJXERAe"
      },
      "source": [
        "df = pd.read_csv('multiplicacionIA.csv')"
      ],
      "execution_count": 3,
      "outputs": []
    },
    {
      "cell_type": "code",
      "metadata": {
        "id": "gS1uZmVYEdxy",
        "colab": {
          "base_uri": "https://localhost:8080/"
        },
        "outputId": "42801aa4-6e45-435b-f36f-ee10f33be827"
      },
      "source": [
        "#Muestra columnas\n",
        "print(df.columns)"
      ],
      "execution_count": 4,
      "outputs": [
        {
          "output_type": "stream",
          "name": "stdout",
          "text": [
            "Index(['Y', 'X1', 'X2', 'X3'], dtype='object')\n"
          ]
        }
      ]
    },
    {
      "cell_type": "code",
      "metadata": {
        "id": "IM5enp02Ep5J"
      },
      "source": [
        "#Creamos un dataset desde el archivo que se descargo.\n",
        "dataset = df.values"
      ],
      "execution_count": 5,
      "outputs": []
    },
    {
      "cell_type": "code",
      "metadata": {
        "id": "uLw-2HbXEtjg",
        "colab": {
          "base_uri": "https://localhost:8080/"
        },
        "outputId": "b605fd4f-b2a0-46f0-a5b1-9fee536c412d"
      },
      "source": [
        "print(dataset)"
      ],
      "execution_count": 6,
      "outputs": [
        {
          "output_type": "stream",
          "name": "stdout",
          "text": [
            "[[112660514       214       751       701]\n",
            " [ 55059060       389       674       210]\n",
            " [  7199830       145       671        74]\n",
            " ...\n",
            " [ 25043130       105       939       254]\n",
            " [395153640       798       786       630]\n",
            " [109346952       844       286       453]]\n"
          ]
        }
      ]
    },
    {
      "cell_type": "code",
      "metadata": {
        "id": "yd8Mss6YEyC2"
      },
      "source": [
        "#Separamos los datos Y variable objetivo, X variables x1, x2, x3\n",
        "Y=dataset[:,0]\n",
        "X=dataset[:,1:4]"
      ],
      "execution_count": 7,
      "outputs": []
    },
    {
      "cell_type": "code",
      "metadata": {
        "id": "03DNF0-8E7eg"
      },
      "source": [
        "#Usar este código para dejar los tipos de datos como float, sugerido.\n",
        "X=np.asarray(X).astype(np.float32)\n",
        "Y=np.asarray(Y).astype(np.float32)"
      ],
      "execution_count": 8,
      "outputs": []
    },
    {
      "cell_type": "code",
      "metadata": {
        "id": "QGVMn8NkFJPs",
        "colab": {
          "base_uri": "https://localhost:8080/"
        },
        "outputId": "3879ecd8-581b-4cc0-94e4-bf77edd5ec76"
      },
      "source": [
        "print(X)\n",
        "print(Y)"
      ],
      "execution_count": 9,
      "outputs": [
        {
          "output_type": "stream",
          "name": "stdout",
          "text": [
            "[[214. 751. 701.]\n",
            " [389. 674. 210.]\n",
            " [145. 671.  74.]\n",
            " ...\n",
            " [105. 939. 254.]\n",
            " [798. 786. 630.]\n",
            " [844. 286. 453.]]\n",
            "[1.1266051e+08 5.5059060e+07 7.1998300e+06 ... 2.5043130e+07 3.9515363e+08\n",
            " 1.0934695e+08]\n"
          ]
        }
      ]
    },
    {
      "cell_type": "markdown",
      "metadata": {
        "id": "ssLrsKk3OgDD"
      },
      "source": [
        "# Creación del Cerebro de nuestra la I.A."
      ]
    },
    {
      "cell_type": "code",
      "metadata": {
        "id": "qvuszICbFKzW"
      },
      "source": [
        "import tensorflow as tf\n",
        "from tensorflow import keras\n",
        "from tensorflow.keras import layers"
      ],
      "execution_count": 10,
      "outputs": []
    },
    {
      "cell_type": "code",
      "metadata": {
        "id": "dlnMkVyyFOan"
      },
      "source": [
        "#Cerebro\n",
        "def build_model():\n",
        "  model = keras.Sequential([\n",
        "    layers.Dense(24, activation='relu', input_shape=[3]),   #input_shape  se ingresa cantida de Xi, en este caso son 3 variables.\n",
        "    layers.Dense(40, activation='relu'), #Aumenté los valores de las neuronas, si era un número muy mayor, los resultados daban todos negativos y si dejaba los valores vistos en clases, no diferían mucho.\n",
        "    layers.Dense(26, activation='relu'),\n",
        "    layers.Dense(1)\n",
        "  ])\n",
        "  optimizer = tf.keras.optimizers.RMSprop(learning_rate=0.0001)\n",
        "  model.compile(loss='mse',\n",
        "                optimizer=optimizer,\n",
        "                metrics=['mae', 'mse'])\n",
        "  return model"
      ],
      "execution_count": 21,
      "outputs": []
    },
    {
      "cell_type": "code",
      "metadata": {
        "id": "0Cg-wD-qFZTf"
      },
      "source": [
        "#Se crea el modelo Cerebro (modelo de redes neuronales)\n",
        "model = build_model()"
      ],
      "execution_count": 22,
      "outputs": []
    },
    {
      "cell_type": "markdown",
      "metadata": {
        "id": "BsNcp4enPM-z"
      },
      "source": [
        "# Entrenamiento de la Red Neuronal"
      ]
    },
    {
      "cell_type": "code",
      "metadata": {
        "id": "XpD6SrVkFak6",
        "colab": {
          "base_uri": "https://localhost:8080/"
        },
        "outputId": "8add6636-de57-4068-d15f-597f30d57916"
      },
      "source": [
        "!pip install git+https://github.com/tensorflow/docs"
      ],
      "execution_count": 23,
      "outputs": [
        {
          "output_type": "stream",
          "name": "stdout",
          "text": [
            "Collecting git+https://github.com/tensorflow/docs\n",
            "  Cloning https://github.com/tensorflow/docs to /tmp/pip-req-build-fp3dhict\n",
            "  Running command git clone -q https://github.com/tensorflow/docs /tmp/pip-req-build-fp3dhict\n",
            "Requirement already satisfied: astor in /usr/local/lib/python3.7/dist-packages (from tensorflow-docs==0.0.0.dev0) (0.8.1)\n",
            "Requirement already satisfied: absl-py in /usr/local/lib/python3.7/dist-packages (from tensorflow-docs==0.0.0.dev0) (0.12.0)\n",
            "Requirement already satisfied: protobuf>=3.14 in /usr/local/lib/python3.7/dist-packages (from tensorflow-docs==0.0.0.dev0) (3.17.3)\n",
            "Requirement already satisfied: pyyaml in /usr/local/lib/python3.7/dist-packages (from tensorflow-docs==0.0.0.dev0) (3.13)\n",
            "Requirement already satisfied: six>=1.9 in /usr/local/lib/python3.7/dist-packages (from protobuf>=3.14->tensorflow-docs==0.0.0.dev0) (1.15.0)\n"
          ]
        }
      ]
    },
    {
      "cell_type": "code",
      "metadata": {
        "id": "k5myYGPFFlSQ"
      },
      "source": [
        "import tensorflow_docs as tfdocs\n",
        "import tensorflow_docs.modeling"
      ],
      "execution_count": 24,
      "outputs": []
    },
    {
      "cell_type": "code",
      "metadata": {
        "id": "lhrF8Mb6Fn5O"
      },
      "source": [
        "EPOCHS = 2000 #Probé con un epochs de 350000 para que la máquina entrenara más y entregue resultados correctos, pero el tiempo de ejecución era muy grande."
      ],
      "execution_count": 25,
      "outputs": []
    },
    {
      "cell_type": "code",
      "metadata": {
        "id": "CeWhINlCFo5q",
        "colab": {
          "base_uri": "https://localhost:8080/"
        },
        "outputId": "21ec3a3f-1b4f-486b-e55e-fdd98b36be63"
      },
      "source": [
        "history = model.fit(\n",
        "    X,Y,\n",
        "    epochs=EPOCHS, verbose=0,\n",
        "    callbacks=[tfdocs.modeling.EpochDots()])"
      ],
      "execution_count": 26,
      "outputs": [
        {
          "output_type": "stream",
          "name": "stdout",
          "text": [
            "\n",
            "Epoch: 0, loss:41452219727347712.0000,  mae:132556432.0000,  mse:41452219727347712.0000,  \n",
            "....................................................................................................\n",
            "Epoch: 100, loss:41352851363987456.0000,  mae:132276448.0000,  mse:41352851363987456.0000,  \n",
            "....................................................................................................\n",
            "Epoch: 200, loss:40132487946436608.0000,  mae:128895912.0000,  mse:40132487946436608.0000,  \n",
            "....................................................................................................\n",
            "Epoch: 300, loss:35465593662472192.0000,  mae:116752312.0000,  mse:35465593662472192.0000,  \n",
            "....................................................................................................\n",
            "Epoch: 400, loss:25550524220702720.0000,  mae:95328792.0000,  mse:25550524220702720.0000,  \n",
            "....................................................................................................\n",
            "Epoch: 500, loss:14730031649521664.0000,  mae:84286416.0000,  mse:14730031649521664.0000,  \n",
            "....................................................................................................\n",
            "Epoch: 600, loss:13169103095201792.0000,  mae:91299320.0000,  mse:13169103095201792.0000,  \n",
            "....................................................................................................\n",
            "Epoch: 700, loss:13160801997160448.0000,  mae:91636960.0000,  mse:13160801997160448.0000,  \n",
            "....................................................................................................\n",
            "Epoch: 800, loss:13157193150889984.0000,  mae:91507632.0000,  mse:13157193150889984.0000,  \n",
            "....................................................................................................\n",
            "Epoch: 900, loss:13152528816406528.0000,  mae:91528520.0000,  mse:13152528816406528.0000,  \n",
            "....................................................................................................\n",
            "Epoch: 1000, loss:13149355909316608.0000,  mae:91505424.0000,  mse:13149355909316608.0000,  \n",
            "....................................................................................................\n",
            "Epoch: 1100, loss:13146151863713792.0000,  mae:91577168.0000,  mse:13146151863713792.0000,  \n",
            "....................................................................................................\n",
            "Epoch: 1200, loss:13143951766716416.0000,  mae:91504584.0000,  mse:13143951766716416.0000,  \n",
            "....................................................................................................\n",
            "Epoch: 1300, loss:13141993261629440.0000,  mae:91566312.0000,  mse:13141993261629440.0000,  \n",
            "....................................................................................................\n",
            "Epoch: 1400, loss:13139810344501248.0000,  mae:91465344.0000,  mse:13139810344501248.0000,  \n",
            "....................................................................................................\n",
            "Epoch: 1500, loss:13137837880770560.0000,  mae:91472784.0000,  mse:13137837880770560.0000,  \n",
            "....................................................................................................\n",
            "Epoch: 1600, loss:13136546169356288.0000,  mae:91434728.0000,  mse:13136546169356288.0000,  \n",
            "....................................................................................................\n",
            "Epoch: 1700, loss:13135227614396416.0000,  mae:91400528.0000,  mse:13135227614396416.0000,  \n",
            "....................................................................................................\n",
            "Epoch: 1800, loss:13133546134700032.0000,  mae:91471592.0000,  mse:13133546134700032.0000,  \n",
            "....................................................................................................\n",
            "Epoch: 1900, loss:13132310257860608.0000,  mae:91535080.0000,  mse:13132310257860608.0000,  \n",
            "...................................................................................................."
          ]
        }
      ]
    },
    {
      "cell_type": "markdown",
      "metadata": {
        "id": "_Wn4SNscPVzt"
      },
      "source": [
        "# Prueba de la I.A. creada, que tenía como objeto enseñar a multiplicar a nuestra I.A."
      ]
    },
    {
      "cell_type": "code",
      "metadata": {
        "id": "BVChxynFFyLu",
        "colab": {
          "base_uri": "https://localhost:8080/"
        },
        "outputId": "f27925ac-5d3e-440c-f356-3a9b20038e79"
      },
      "source": [
        "print(\"Aprendiendo a multiplicar\")\n",
        "\n",
        "a=float(input(\"Ingrese primer valor: \"))\n",
        "b=float(input(\"Ingrese segundo valor: \"))\n",
        "c=float(input(\"Ingrese el tercer valor: \"))\n",
        "\n",
        "y=model.predict(np.array([[a,b,c]]))\n",
        "\n",
        "#multiplicacion=a*b*c\n",
        "print(\" \")\n",
        "print(\"El resultado es: %s apróximadamente \" % y[0] [0])\n"
      ],
      "execution_count": 27,
      "outputs": [
        {
          "output_type": "stream",
          "name": "stdout",
          "text": [
            "Aprendiendo a multiplicar\n",
            "Ingrese primer valor: 6\n",
            "Ingrese segundo valor: 10\n",
            "Ingrese el tercer valor: 5\n",
            " \n",
            "El resultado es: 2046813.6 apróximadamente \n"
          ]
        }
      ]
    },
    {
      "cell_type": "code",
      "metadata": {
        "id": "YQdJlj8XgscV"
      },
      "source": [
        "#El código a mi parecer está correcto, pero los resultados no. Le falta entrenar más a la máquina, pero a un epochs muy grande se demora mucho en ejecutar y si duplico los valores de la cantidad de neuronas vistas en clase, los resultados son negativos.\n"
      ],
      "execution_count": null,
      "outputs": []
    }
  ]
}